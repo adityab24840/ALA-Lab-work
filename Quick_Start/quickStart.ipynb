{
 "cells": [
  {
   "cell_type": "code",
   "execution_count": 1,
   "metadata": {},
   "outputs": [
    {
     "name": "stdout",
     "output_type": "stream",
     "text": [
      "Hello world\n"
     ]
    }
   ],
   "source": [
    "print('Hello world')"
   ]
  },
  {
   "cell_type": "markdown",
   "metadata": {},
   "source": [
    "\n",
    "### 1. Initial checks and imports"
   ]
  },
  {
   "cell_type": "code",
   "execution_count": 1,
   "metadata": {},
   "outputs": [
    {
     "name": "stdout",
     "output_type": "stream",
     "text": [
      "['c:\\\\Program Files\\\\Microsoft VS Code', 'c:\\\\Users\\\\adity\\\\anaconda3\\\\envs\\\\pycaretenv\\\\python39.zip', 'c:\\\\Users\\\\adity\\\\anaconda3\\\\envs\\\\pycaretenv\\\\DLLs', 'c:\\\\Users\\\\adity\\\\anaconda3\\\\envs\\\\pycaretenv\\\\lib', 'c:\\\\Users\\\\adity\\\\anaconda3\\\\envs\\\\pycaretenv', '', 'c:\\\\Users\\\\adity\\\\anaconda3\\\\envs\\\\pycaretenv\\\\lib\\\\site-packages', 'c:\\\\Users\\\\adity\\\\anaconda3\\\\envs\\\\pycaretenv\\\\lib\\\\site-packages\\\\win32', 'c:\\\\Users\\\\adity\\\\anaconda3\\\\envs\\\\pycaretenv\\\\lib\\\\site-packages\\\\win32\\\\lib', 'c:\\\\Users\\\\adity\\\\anaconda3\\\\envs\\\\pycaretenv\\\\lib\\\\site-packages\\\\Pythonwin']\n"
     ]
    }
   ],
   "source": [
    "# Check python paths\n",
    "\n",
    "import sys\n",
    "print(sys.path)"
   ]
  },
  {
   "cell_type": "code",
   "execution_count": 3,
   "metadata": {},
   "outputs": [],
   "source": [
    "import numpy as np\n"
   ]
  },
  {
   "cell_type": "code",
   "execution_count": 2,
   "metadata": {},
   "outputs": [
    {
     "data": {
      "text/plain": [
       "'Hello John Smith'"
      ]
     },
     "execution_count": 2,
     "metadata": {},
     "output_type": "execute_result"
    }
   ],
   "source": [
    "# Append first and last name with f string\n",
    "first_name = \"John\"\n",
    "last_name = \"Smith\"\n",
    "\n",
    "full_name = f\"Hello {first_name} {last_name}\"\n",
    "full_name"
   ]
  },
  {
   "cell_type": "code",
   "execution_count": 1,
   "metadata": {},
   "outputs": [
    {
     "data": {
      "text/plain": [
       "'Hello John Smith'"
      ]
     },
     "execution_count": 1,
     "metadata": {},
     "output_type": "execute_result"
    }
   ],
   "source": [
    "# Append first and last name\n",
    "first_name = \"John\"\n",
    "last_name = \"Smith\"\n",
    "\n",
    "full_name = \"Hello \" + first_name + \" \" + last_name\n",
    "full_name"
   ]
  },
  {
   "cell_type": "code",
   "execution_count": 4,
   "metadata": {},
   "outputs": [],
   "source": [
    "# Specifying the arguments data type and return data type\n",
    "# This is not mandatory\n",
    "# Even is you incorrectly specify there are no checks by Python interpreter\n",
    "def get_mr(language):\n",
    "    person_address = \"Mr.\"\n",
    "    if language == 'Spanish':\n",
    "        person_address = 'Senor'\n",
    "    elif language == 'French':\n",
    "        person_address = \"Monsieur\"\n",
    "    elif language == \"Hindi\":\n",
    "        person_address = \"Srimaan\"\n",
    "    elif language == \"Urdu\":\n",
    "        person_address = \"Janaab\"\n",
    "\n",
    "    return person_address"
   ]
  }
 ],
 "metadata": {
  "kernelspec": {
   "display_name": "pycaretenv",
   "language": "python",
   "name": "python3"
  },
  "language_info": {
   "codemirror_mode": {
    "name": "ipython",
    "version": 3
   },
   "file_extension": ".py",
   "mimetype": "text/x-python",
   "name": "python",
   "nbconvert_exporter": "python",
   "pygments_lexer": "ipython3",
   "version": "3.9.17"
  },
  "orig_nbformat": 4
 },
 "nbformat": 4,
 "nbformat_minor": 2
}
