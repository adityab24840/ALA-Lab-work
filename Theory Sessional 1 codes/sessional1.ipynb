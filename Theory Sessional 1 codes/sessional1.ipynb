{
 "cells": [
  {
   "cell_type": "markdown",
   "metadata": {},
   "source": [
    "The eating habits of AIML class were discretely studied for 10 days (total 3 eats a day) by MSIS for analysis and decision making. The following data was observed. AIML class consists of predominantly 3 groups. The first group led by Mohith sticks to Food Court 2 for 20 of those eats. But the remaining 10 eats are at Boda Sheera and Pai Tiffins. The second group led by Ancitha has food 10 times each at Boda Sheera and Pai tiffins, but they also were seen gorging delicacies at Dollops 4 times, and Desi Firangi 4 times. The renaining two times they were spotted at Sizzlers Ranch. The third group led by Sowbhagya have their stomachs fill at Boda Sheera 4 times, Pai Tiffins 8 times, 5 times at Food court 2, Dollops 6 times, Desi Firangi 6 times. They were also spotted at Saiba near Tiger Circle once. Solve for which two groups have similar eating habits."
   ]
  },
  {
   "cell_type": "code",
   "execution_count": 1,
   "metadata": {},
   "outputs": [],
   "source": [
    "import numpy as np"
   ]
  },
  {
   "cell_type": "code",
   "execution_count": 2,
   "metadata": {},
   "outputs": [],
   "source": [
    "group_1 = np.array([20, 10, 10, 0, 0, 0, 0, 0])\n",
    "group_2 = np.array([0, 10, 10, 4, 4, 2, 0, 0])\n",
    "group_3 = np.array([4, 8, 5, 0, 0, 6, 6, 1])"
   ]
  },
  {
   "cell_type": "code",
   "execution_count": 3,
   "metadata": {},
   "outputs": [],
   "source": [
    "dot_product_1_2 = np.dot(group_1, group_2)\n",
    "dot_product_1_3 = np.dot(group_1, group_3)\n",
    "dot_product_2_3 = np.dot(group_2, group_3)"
   ]
  },
  {
   "cell_type": "code",
   "execution_count": 4,
   "metadata": {},
   "outputs": [],
   "source": [
    "magnitude_1 = np.linalg.norm(group_1)\n",
    "magnitude_2 = np.linalg.norm(group_2)\n",
    "magnitude_3 = np.linalg.norm(group_3)"
   ]
  },
  {
   "cell_type": "code",
   "execution_count": 5,
   "metadata": {},
   "outputs": [],
   "source": [
    "similarity_1_2 = dot_product_1_2 / (magnitude_1 * magnitude_2)\n",
    "similarity_1_3 = dot_product_1_3 / (magnitude_1 * magnitude_3)\n",
    "similarity_2_3 = dot_product_2_3 / (magnitude_2 * magnitude_3)"
   ]
  },
  {
   "cell_type": "code",
   "execution_count": 6,
   "metadata": {},
   "outputs": [
    {
     "name": "stdout",
     "output_type": "stream",
     "text": [
      "Cosine Similarity between Group 1 and Group 2: 0.5314940034527339\n",
      "Cosine Similarity between Group 1 and Group 3: 0.6425895644302098\n",
      "Cosine Similarity between Group 2 and Group 3: 0.6928230717855203\n"
     ]
    }
   ],
   "source": [
    "print(f\"Cosine Similarity between Group 1 and Group 2: {similarity_1_2}\")\n",
    "print(f\"Cosine Similarity between Group 1 and Group 3: {similarity_1_3}\")\n",
    "print(f\"Cosine Similarity between Group 2 and Group 3: {similarity_2_3}\")\n"
   ]
  },
  {
   "cell_type": "code",
   "execution_count": 7,
   "metadata": {},
   "outputs": [
    {
     "name": "stdout",
     "output_type": "stream",
     "text": [
      "Group 2 and Group 3 have similar eating habits.\n"
     ]
    }
   ],
   "source": [
    "if similarity_1_2 > similarity_1_3 and similarity_1_2 > similarity_2_3:\n",
    "    print(\"Group 1 and Group 2 have similar eating habits.\")\n",
    "elif similarity_1_3 > similarity_1_2 and similarity_1_3 > similarity_2_3:\n",
    "    print(\"Group 1 and Group 3 have similar eating habits.\")\n",
    "else:\n",
    "    print(\"Group 2 and Group 3 have similar eating habits.\")"
   ]
  }
 ],
 "metadata": {
  "kernelspec": {
   "display_name": "Python 3",
   "language": "python",
   "name": "python3"
  },
  "language_info": {
   "codemirror_mode": {
    "name": "ipython",
    "version": 3
   },
   "file_extension": ".py",
   "mimetype": "text/x-python",
   "name": "python",
   "nbconvert_exporter": "python",
   "pygments_lexer": "ipython3",
   "version": "3.10.11"
  },
  "orig_nbformat": 4
 },
 "nbformat": 4,
 "nbformat_minor": 2
}
