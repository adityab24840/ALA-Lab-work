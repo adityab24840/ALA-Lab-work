{
 "cells": [
  {
   "cell_type": "code",
   "execution_count": 24,
   "metadata": {},
   "outputs": [
    {
     "name": "stdout",
     "output_type": "stream",
     "text": [
      "The patient farthest from the rest is patient-4\n"
     ]
    }
   ],
   "source": [
    "import pandas as pd\n",
    "import numpy as np\n",
    "\n",
    "data = {\n",
    "    'Patient': ['patient-1', 'patient-2', 'patient-3', 'patient-4'],\n",
    "    'HR': [76, 74, 72, 78],\n",
    "    'BP': [126, 120, 118, 136],\n",
    "    'TEMP': [38.0, 38.0, 27.5, 37.0]\n",
    "}\n",
    "\n",
    "df = pd.DataFrame(data)\n",
    "\n",
    "data\n",
    "\n",
    "distances = []\n",
    "for index, row in df.iterrows():\n",
    "    data_point = np.array([row['HR'], row['BP'], row['TEMP']])\n",
    "    distances.append(np.linalg.norm(data_point - df[['HR', 'BP', 'TEMP']], axis=1))\n",
    "    \n",
    "distances_df = pd.DataFrame(distances, index=df['Patient'], columns=df['Patient'])\n",
    "\n",
    "max_distance_patient = distances_df.sum(axis=1).idxmax()\n",
    "\n",
    "print(f\"The patient farthest from the rest is {max_distance_patient}\")\n"
   ]
  },
  {
   "cell_type": "markdown",
   "metadata": {},
   "source": [
    "Sum the distances for each patient across all other patients using .sum(axis=1) on the distances DataFrame.\n",
    "Determine the patient with the maximum total distance from the rest using .idxmax()."
   ]
  },
  {
   "cell_type": "code",
   "execution_count": 25,
   "metadata": {},
   "outputs": [
    {
     "name": "stdout",
     "output_type": "stream",
     "text": [
      "The two patients nearest to each other are ('patient-1', 'patient-2')\n"
     ]
    }
   ],
   "source": [
    "min_distance = float('inf')\n",
    "nearest_patients = None\n",
    "\n",
    "for patient1 in distances_df.index:\n",
    "    for patient2 in distances_df.index:\n",
    "        if patient1 != patient2:\n",
    "            distance = distances_df.loc[patient1, patient2]\n",
    "            if distance < min_distance:\n",
    "                min_distance = distance\n",
    "                nearest_patients = (patient1, patient2)\n",
    "\n",
    "print(f\"The two patients nearest to each other are {nearest_patients}\")\n"
   ]
  },
  {
   "cell_type": "markdown",
   "metadata": {},
   "source": [
    "Initialize a variable min_distance with a value of positive infinity and nearest_patients as None\n",
    "for patient1 in distances_df.index:: Iterate through each patient in the DataFrame's index. This loop represents the first patient in the pair that we are comparing. similarly for patient2 and check if the two patients being compared are not the same.\n",
    "Calculate the distance between the two patients  by accessing the corresponding entry in the dataFrame and Compare the calculated distance with the current minimum distance (min_distance).\n",
    "If the calculated distance is smaller than the current minimum distance, update min_distance to the new smaller distance.\n",
    "Update the nearest_patients variable with the pair of patients that have the smallest distance."
   ]
  },
  {
   "cell_type": "code",
   "execution_count": 26,
   "metadata": {},
   "outputs": [
    {
     "name": "stdout",
     "output_type": "stream",
     "text": [
      "The closest patient to the dummy dummy patient 5 is patient-1\n"
     ]
    }
   ],
   "source": [
    "patient5 = {'Patient': 'patient-5', 'HR': 72, 'BP': 130, 'TEMP': 37.5}\n",
    "dummy_patient = pd.DataFrame([patient5])\n",
    "df = pd.concat([df, dummy_patient], ignore_index=True)\n",
    "\n",
    "distances = []\n",
    "for index, row in df.iterrows():\n",
    "    data_point = np.array([row['HR'], row['BP'], row['TEMP']])\n",
    "    distances.append(np.linalg.norm(data_point - df[['HR', 'BP', 'TEMP']], axis=1))\n",
    "    \n",
    "distances_df = pd.DataFrame(distances, index=df['Patient'], columns=df['Patient'])\n",
    "\n",
    "min_distance = float('inf')\n",
    "nearest_patient = None\n",
    "\n",
    "for patient in distances_df.index:\n",
    "    if patient != 'patient-5':\n",
    "        distance = distances_df.loc['patient-5', patient]\n",
    "        if distance < min_distance:\n",
    "            min_distance = distance\n",
    "            nearest_patient = patient\n",
    "\n",
    "print(f\"The closest patient to the dummy dummy patient 5 is {nearest_patient}\")"
   ]
  },
  {
   "cell_type": "markdown",
   "metadata": {},
   "source": [
    "What is the time complexity of this operation of finding the closest two and farthest patients? Specify using BigO notation.\n",
    "\n",
    "The time complexity of finding the closest two and farthest patients in your code is O (n^2), where n is the number of patients. This is because you are using a nested loop to compare every pair of patients and find the minimum and maximum distances"
   ]
  },
  {
   "cell_type": "markdown",
   "metadata": {},
   "source": [
    "Can you name one practical use of such a simple technique when about 100s of features are available and thousands of patient data is available?\n",
    "\n",
    "There are different ways to measure the distance, such as \n",
    " 1. Euclidean distance \n",
    " 2. Manhattan distance \n",
    " 3. cosine similarity \n",
    " 4. correlation coefficient. \n",
    "Depending on the choice of distance measure and the features used, the clustering results may vary. \n",
    "\n",
    "One practical use of finding the closest and farthest pair of points among hundreds of features and thousands of patient data is to perform Clustering analysis."
   ]
  },
  {
   "cell_type": "markdown",
   "metadata": {},
   "source": []
  }
 ],
 "metadata": {
  "kernelspec": {
   "display_name": "pycaretenv",
   "language": "python",
   "name": "python3"
  },
  "language_info": {
   "codemirror_mode": {
    "name": "ipython",
    "version": 3
   },
   "file_extension": ".py",
   "mimetype": "text/x-python",
   "name": "python",
   "nbconvert_exporter": "python",
   "pygments_lexer": "ipython3",
   "version": "3.9.17"
  },
  "orig_nbformat": 4
 },
 "nbformat": 4,
 "nbformat_minor": 2
}
