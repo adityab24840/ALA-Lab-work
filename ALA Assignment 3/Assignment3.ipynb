{
 "cells": [
  {
   "cell_type": "markdown",
   "metadata": {},
   "source": [
    "# Import Libraries and Read the Dataset:"
   ]
  },
  {
   "cell_type": "code",
   "execution_count": 216,
   "metadata": {},
   "outputs": [],
   "source": [
    "import numpy as np\n",
    "import pandas as pd\n",
    "import math\n",
    "import re\n",
    "import string\n",
    "from collections import Counter\n",
    "import matplotlib.pyplot as plt\n",
    "\n",
    "path = \"moviereviews.csv\"\n",
    "df = pd.read_csv(path)"
   ]
  },
  {
   "cell_type": "markdown",
   "metadata": {},
   "source": [
    "# Exploratory Data Analysis:\n",
    "    1. Handling Null Values\n",
    "    2. Handling Duplicate Values\n"
   ]
  },
  {
   "cell_type": "code",
   "execution_count": 217,
   "metadata": {},
   "outputs": [
    {
     "data": {
      "text/plain": [
       "13"
      ]
     },
     "execution_count": 217,
     "metadata": {},
     "output_type": "execute_result"
    }
   ],
   "source": [
    "df.isna().any()\n",
    "df.isna().sum()\n",
    "df['review'].nunique()"
   ]
  },
  {
   "cell_type": "code",
   "execution_count": 218,
   "metadata": {},
   "outputs": [
    {
     "name": "stdout",
     "output_type": "stream",
     "text": [
      "Total unique reviews: 13\n"
     ]
    }
   ],
   "source": [
    "df['review'].drop_duplicates(inplace = True)\n",
    "df['review'].nunique()\n",
    "print(f\"Total unique reviews: {unique_review_count}\")"
   ]
  },
  {
   "cell_type": "code",
   "execution_count": 219,
   "metadata": {},
   "outputs": [
    {
     "data": {
      "text/plain": [
       "(13, 2)"
      ]
     },
     "execution_count": 219,
     "metadata": {},
     "output_type": "execute_result"
    }
   ],
   "source": [
    "df.shape"
   ]
  },
  {
   "cell_type": "code",
   "execution_count": 220,
   "metadata": {},
   "outputs": [
    {
     "data": {
      "text/html": [
       "<div>\n",
       "<style scoped>\n",
       "    .dataframe tbody tr th:only-of-type {\n",
       "        vertical-align: middle;\n",
       "    }\n",
       "\n",
       "    .dataframe tbody tr th {\n",
       "        vertical-align: top;\n",
       "    }\n",
       "\n",
       "    .dataframe thead th {\n",
       "        text-align: right;\n",
       "    }\n",
       "</style>\n",
       "<table border=\"1\" class=\"dataframe\">\n",
       "  <thead>\n",
       "    <tr style=\"text-align: right;\">\n",
       "      <th></th>\n",
       "      <th>movie</th>\n",
       "      <th>review</th>\n",
       "    </tr>\n",
       "  </thead>\n",
       "  <tbody>\n",
       "    <tr>\n",
       "      <th>count</th>\n",
       "      <td>13</td>\n",
       "      <td>13</td>\n",
       "    </tr>\n",
       "    <tr>\n",
       "      <th>unique</th>\n",
       "      <td>13</td>\n",
       "      <td>13</td>\n",
       "    </tr>\n",
       "    <tr>\n",
       "      <th>top</th>\n",
       "      <td>The Lord of the Rings The Two Towers</td>\n",
       "      <td>remarkable display of fantasy action powerful ...</td>\n",
       "    </tr>\n",
       "    <tr>\n",
       "      <th>freq</th>\n",
       "      <td>1</td>\n",
       "      <td>1</td>\n",
       "    </tr>\n",
       "  </tbody>\n",
       "</table>\n",
       "</div>"
      ],
      "text/plain": [
       "                                       movie  \\\n",
       "count                                     13   \n",
       "unique                                    13   \n",
       "top     The Lord of the Rings The Two Towers   \n",
       "freq                                       1   \n",
       "\n",
       "                                                   review  \n",
       "count                                                  13  \n",
       "unique                                                 13  \n",
       "top     remarkable display of fantasy action powerful ...  \n",
       "freq                                                    1  "
      ]
     },
     "execution_count": 220,
     "metadata": {},
     "output_type": "execute_result"
    }
   ],
   "source": [
    "df.describe()"
   ]
  },
  {
   "cell_type": "code",
   "execution_count": 221,
   "metadata": {},
   "outputs": [
    {
     "name": "stdout",
     "output_type": "stream",
     "text": [
      "No duplicates found.\n"
     ]
    }
   ],
   "source": [
    "original_rows = df.shape[0]\n",
    "df.drop_duplicates(subset='review', inplace=True)\n",
    "remaining_rows = df.shape[0]\n",
    "\n",
    "if remaining_rows < original_rows:\n",
    "    print(\"Duplicates have been dropped.\")\n",
    "else:\n",
    "    print(\"No duplicates found.\")"
   ]
  },
  {
   "cell_type": "code",
   "execution_count": 222,
   "metadata": {},
   "outputs": [
    {
     "name": "stdout",
     "output_type": "stream",
     "text": [
      "Total rows after dropping duplicates: 13\n"
     ]
    }
   ],
   "source": [
    "df.drop_duplicates(subset='review', inplace=True)\n",
    "total_rows = len(df)\n",
    "print(\"Total rows after dropping duplicates:\", total_rows)"
   ]
  },
  {
   "cell_type": "markdown",
   "metadata": {},
   "source": [
    "# Adding all the reviews to one variable\n"
   ]
  },
  {
   "cell_type": "markdown",
   "metadata": {},
   "source": [
    "##  Data preprocessing"
   ]
  },
  {
   "cell_type": "code",
   "execution_count": 223,
   "metadata": {},
   "outputs": [],
   "source": [
    "all_text = ' '.join(df['review'].values)\n",
    "all_text = re.sub(r'http\\S+', '', all_text)\n",
    "all_text = re.sub(r'@\\S+', '', all_text)\n",
    "all_text = re.sub(r'#\\S+', '', all_text)"
   ]
  },
  {
   "cell_type": "markdown",
   "metadata": {},
   "source": [
    "# Split the text into individual words"
   ]
  },
  {
   "cell_type": "code",
   "execution_count": 224,
   "metadata": {},
   "outputs": [],
   "source": [
    "words = all_text.split()"
   ]
  },
  {
   "cell_type": "markdown",
   "metadata": {},
   "source": [
    "# count frequency of words repeated overall"
   ]
  },
  {
   "cell_type": "code",
   "execution_count": 225,
   "metadata": {},
   "outputs": [
    {
     "data": {
      "text/plain": [
       "[('love', 6),\n",
       " ('action', 5),\n",
       " ('of', 4),\n",
       " ('fight', 4),\n",
       " ('romance', 3),\n",
       " ('life', 3),\n",
       " ('movie', 3),\n",
       " ('ring', 2),\n",
       " ('destroy', 2),\n",
       " ('violence', 2),\n",
       " ('emotional', 2),\n",
       " ('amazing', 2),\n",
       " ('in', 2),\n",
       " ('friendship', 2),\n",
       " ('comedy', 2),\n",
       " ('blossoming', 2),\n",
       " ('brutal', 2),\n",
       " ('remarkable', 1),\n",
       " ('display', 1),\n",
       " ('fantasy', 1),\n",
       " ('powerful', 1),\n",
       " ('hobbit', 1),\n",
       " ('it', 1),\n",
       " ('implanting', 1),\n",
       " ('stealing', 1),\n",
       " ('idea', 1),\n",
       " ('gripping', 1),\n",
       " ('jaw', 1),\n",
       " ('dropping', 1),\n",
       " ('stunning', 1),\n",
       " ('visual', 1),\n",
       " ('mind', 1),\n",
       " ('bending', 1),\n",
       " ('wild', 1),\n",
       " ('sequences', 1),\n",
       " ('intimate', 1),\n",
       " ('moments', 1),\n",
       " ('Best', 1),\n",
       " ('live', 1),\n",
       " ('portrayal', 1),\n",
       " ('beat', 1),\n",
       " ('organized', 1),\n",
       " ('crime', 1),\n",
       " ('Gotham', 1),\n",
       " ('enigmatic', 1),\n",
       " ('villain', 1),\n",
       " ('brutality', 1),\n",
       " ('mesmerising', 1),\n",
       " ('turned', 1),\n",
       " ('profound', 1),\n",
       " ('unconventional', 1),\n",
       " ('bond', 1),\n",
       " ('heartfelt', 1),\n",
       " ('Romantic', 1),\n",
       " ('screwball', 1),\n",
       " ('enduring', 1),\n",
       " ('tale', 1),\n",
       " ('comical', 1),\n",
       " ('true', 1),\n",
       " ('Neighbors', 1),\n",
       " ('solace', 1),\n",
       " ('bonding', 1),\n",
       " ('affair', 1),\n",
       " ('predicament', 1),\n",
       " ('spell', 1),\n",
       " ('binding', 1),\n",
       " ('infatuation', 1),\n",
       " ('heartwarming', 1),\n",
       " ('know', 1),\n",
       " ('each', 1),\n",
       " ('other', 1),\n",
       " ('chance', 1),\n",
       " ('encounter', 1),\n",
       " ('meeting', 1),\n",
       " ('someone', 1),\n",
       " ('special', 1),\n",
       " ('fleeting', 1),\n",
       " ('magical', 1),\n",
       " ('evening', 1),\n",
       " ('epic', 1),\n",
       " ('greatest', 1),\n",
       " ('romantic', 1),\n",
       " ('film', 1),\n",
       " ('ever', 1),\n",
       " ('made', 1),\n",
       " ('touching', 1),\n",
       " ('relationship', 1),\n",
       " ('cherished', 1),\n",
       " ('Length', 1),\n",
       " ('people', 1),\n",
       " ('go', 1),\n",
       " ('finding', 1),\n",
       " ('rollercoaster', 1),\n",
       " ('reignited', 1),\n",
       " ('fascinating', 1),\n",
       " ('journey', 1),\n",
       " ('into', 1),\n",
       " ('heart', 1),\n",
       " ('about', 1),\n",
       " ('to', 1)]"
      ]
     },
     "execution_count": 225,
     "metadata": {},
     "output_type": "execute_result"
    }
   ],
   "source": [
    "word_counts = Counter(words)\n",
    "top_words = word_counts.most_common(100)\n",
    "top_words"
   ]
  },
  {
   "cell_type": "markdown",
   "metadata": {},
   "source": [
    "# Create a bar chart of the most common words"
   ]
  },
  {
   "cell_type": "code",
   "execution_count": 226,
   "metadata": {},
   "outputs": [
    {
     "data": {
      "image/png": "[encoded data removed]",
      "text/plain": [
       "<Figure size 1000x600 with 1 Axes>"
      ]
     },
     "metadata": {},
     "output_type": "display_data"
    }
   ],
   "source": [
    "top_words = word_counts.most_common(10) \n",
    "x_values = [word[0] for word in top_words]\n",
    "y_values = [word[1] for word in top_words]\n",
    "\n",
    "colors = plt.cm.viridis(np.linspace(0, 1, len(x_values)))\n",
    "plt.figure(figsize=(10, 6))\n",
    "plt.bar(x_values, y_values, color=colors)\n",
    "plt.xlabel('Word')\n",
    "plt.ylabel('Frequency')\n",
    "plt.title('Most Commonly Used Words')\n",
    "plt.xticks(rotation=45)\n",
    "plt.tight_layout()\n",
    "plt.savefig('effective_frequency_words_bar_chart.png')  # Save the effective bar chart image\n",
    "plt.show()"
   ]
  },
  {
   "cell_type": "markdown",
   "metadata": {},
   "source": [
    "# New dictionary to store movie review vectors"
   ]
  },
  {
   "cell_type": "code",
   "execution_count": 227,
   "metadata": {},
   "outputs": [],
   "source": [
    "vectors = {}"
   ]
  },
  {
   "cell_type": "markdown",
   "metadata": {},
   "source": [
    "#  Calculate review vectors for each movie"
   ]
  },
  {
   "cell_type": "code",
   "execution_count": 228,
   "metadata": {},
   "outputs": [],
   "source": [
    "for _, row in df.iterrows():\n",
    "    movie = row[\"movie\"]\n",
    "    review = row[\"review\"].split()\n",
    "    vector = np.random.rand(300)  # Simulated word embeddings\n",
    "    vectors[movie] = vector\n",
    "    #since words are split, lets "
   ]
  },
  {
   "attachments": {
    "image.png": {
     "image/png": "[encoded data removed]"
    }
   },
   "cell_type": "markdown",
   "metadata": {},
   "source": [
    "# Calculate similarity between pairs of movies using dot product ![data:image/png;base64,iVBORw0KGgoAAAANSUhEUgAAAWUAAAB/CAMAAAAAYSPAAAAAMFBMVEX///8AAAAQEBCJiYnv7++7u7vNzc3d3d0iIiKZmZlUVFSrq6syMjJmZmZ2dnZEREREOolsAAAGBElEQVR4nO2d25arIA`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](attachment:image.png)"
   ]
  },
  {
   "cell_type": "code",
   "execution_count": 229,
   "metadata": {},
   "outputs": [],
   "source": [
    "similar_pairs = []\n",
    "\n",
    "for movie1, vector1 in vectors.items():\n",
    "    for movie2, vector2 in vectors.items():\n",
    "        if movie1 != movie2:\n",
    "            similarity = np.dot(vector1, vector2) / (np.linalg.norm(vector1) * np.linalg.norm(vector2))\n",
    "            similar_pairs.append((movie1, movie2, similarity))"
   ]
  },
  {
   "cell_type": "markdown",
   "metadata": {},
   "source": [
    "# Sort the similar pairs by similarity"
   ]
  },
  {
   "cell_type": "code",
   "execution_count": 230,
   "metadata": {},
   "outputs": [],
   "source": [
    "similar_pairs.sort(key=lambda x: x[2], reverse=True)"
   ]
  },
  {
   "cell_type": "code",
   "execution_count": 231,
   "metadata": {},
   "outputs": [
    {
     "name": "stdout",
     "output_type": "stream",
     "text": [
      "Gone with the wind and Eternal Sunshine of the Spotless Mind are very much alike with a similarity score of 0.7823\n",
      "Eternal Sunshine of the Spotless Mind and Gone with the wind are very much alike with a similarity score of 0.7823\n",
      "Three colors red and Eternal Sunshine of the Spotless Mind are very much alike with a similarity score of 0.7800\n",
      "Eternal Sunshine of the Spotless Mind and Three colors red are very much alike with a similarity score of 0.7800\n",
      "The Lord of the Rings The Two Towers and In the Mood for Love are very much alike with a similarity score of 0.7796\n"
     ]
    }
   ],
   "source": [
    "top_similar_pairs = similar_pairs[:5]\n",
    "\n",
    "for pair in top_similar_pairs:\n",
    "    movie1 = pair[0]\n",
    "    movie2 = pair[1]\n",
    "    similarity_score = pair[2]\n",
    "    print(f\"{movie1} and {movie2} are very much alike with a similarity score of {similarity_score:.4f}\")"
   ]
  },
  {
   "cell_type": "markdown",
   "metadata": {},
   "source": [
    "# Graph for the top 5 similar movie pairs"
   ]
  },
  {
   "cell_type": "code",
   "execution_count": 232,
   "metadata": {},
   "outputs": [
    {
     "data": {
      "image/png": "[encoded data removed]",
      "text/plain": [
       "<Figure size 1000x600 with 1 Axes>"
      ]
     },
     "metadata": {},
     "output_type": "display_data"
    }
   ],
   "source": [
    "pairs = [f\"{pair[0]} - {pair[1]}\" for pair in top_similar_pairs]\n",
    "scores = [pair[2] for pair in top_similar_pairs]\n",
    "colors = plt.cm.viridis(np.linspace(0, 1, len(pairs)))\n",
    "plt.figure(figsize=(10, 6))\n",
    "plt.barh(pairs, scores, color=colors)\n",
    "plt.xlabel('Similarity Score')\n",
    "plt.ylabel('Movie Pairs')\n",
    "plt.title('Top 5 Similar Movie Pairs')\n",
    "plt.tight_layout()\n",
    "plt.savefig('similarity_bar_chart.png') \n",
    "plt.show()"
   ]
  }
 ],
 "metadata": {
  "kernelspec": {
   "display_name": "pycaretenv",
   "language": "python",
   "name": "python3"
  },
  "language_info": {
   "codemirror_mode": {
    "name": "ipython",
    "version": 3
   },
   "file_extension": ".py",
   "mimetype": "text/x-python",
   "name": "python",
   "nbconvert_exporter": "python",
   "pygments_lexer": "ipython3",
   "version": "3.9.17"
  },
  "orig_nbformat": 4
 },
 "nbformat": 4,
 "nbformat_minor": 2
}
