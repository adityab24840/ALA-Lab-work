{
 "cells": [
  {
   "cell_type": "markdown",
   "metadata": {},
   "source": [
    "# ALA Lab Sessional 1 Pattern Problem"
   ]
  },
  {
   "cell_type": "markdown",
   "metadata": {},
   "source": [
    "### 1. Pre-requisites for lab in VS Code\n",
    "1. Install PDF export support https://saturncloud.io/blog/how-to-export-jupyter-notebook-by-vscode-in-pdf-format/\n",
    "\n",
    "### 2. At the end, export your notebook as pdf \n",
    "1. Open VS Code command palette Shift + Ctrl + P\n",
    "2. Type \"Export Jupyter Notebook\" in the search bar and select \"Export Jupyter Notebook to PDF\"\n",
    "3. Save the pdf and send it to me in MS Teams"
   ]
  },
  {
   "cell_type": "markdown",
   "metadata": {},
   "source": [
    "### 3. Lab Sessional - Dos and Don'ts - Summary \n",
    "1. A code template will be given to you in actual lab sesional just like this pattern problem\n",
    "2. The template will follow a linear sequence of TODOs appropriately labelled with question marks\n",
    "3. You will have to fill the TODO question marks to compile those notebook cells and proceed to next cells\n",
    "4. You can think of the linear sequence of TODO templates as a guided thought process.\n",
    "5. Sessional is open book. Google, github, browse product documentation ChatGPT - Do anything you want, except copying from your classmates (Sending questions to your seniors and seeking answers is prohibited). If you are caught carrying out these illegal activities, you will be reported to MSIS Director for immediate action. \n",
    "6. You CANNOT replace the TODO code template with some other code copied from stack overflow, ChatGPT etc. All your browsing and search should give you insights into finally how you can fit that into the framework I provide for the thought process of solving the problem in this notebook. You will have to mandatorily fill the question marks and proceed with the lab problem."
   ]
  },
  {
   "cell_type": "code",
   "execution_count": 3,
   "metadata": {},
   "outputs": [],
   "source": [
    "import numpy as np\n",
    "import pandas as pd\n",
    "\n",
    "import matplotlib.pyplot as plt"
   ]
  },
  {
   "cell_type": "markdown",
   "metadata": {},
   "source": [
    "### Pattern Problem\n",
    "\n",
    "The food that we eat contains primarily three items - fats, proteins, and carbohydrates. The calorific data for the three is as tabulated below\n",
    "\n",
    "| Nutrients  | Cal/gm|\n",
    "|---|-----:|\n",
    "|Fats| 9|\n",
    "|Proteins|4|\n",
    "|Carbohydrates|4|\n",
    "\n",
    "It was found that a typical person from Karnataka consumes the following on a daily basis \n",
    "1. two servings of Idli for breakfast\n",
    "2. one serving of rice in the lunch \n",
    "3. one serving of bisibelebath for supper(night)\n",
    "4. two servings of snacks during the day\n",
    "\n",
    "The fats, proteins and carbs breakdown in *<font color=\"red\">1 serving</font>* each of the above food items is tabulated below\n",
    "\n",
    "|      | Fat (gm) | Protein (gm) | Carbohydrate (gm) |\n",
    "|---|----:|----:|---:|\n",
    "|Idli| 0.8 | 30 | 25 |\n",
    "|Rice| 0.9 | 5 | 50 |\n",
    "|Snacks| 20 | 5 | 10 |\n",
    "|Bisibelebath| 10 | 20 | 50 |"
   ]
  },
  {
   "cell_type": "markdown",
   "metadata": {},
   "source": [
    "### Your task\n",
    "1. Use numpy to create vectors (and matrices if needed) to hold the data \n",
    "2. Use simple <font color=\"red\">linear algebra operations</font> (such as linear combinations, dot product, hadamard product, matrix-vector multiplication etc.) on these vectors and matrices to calculate the total calories consumed by the typical person from Karnataka over the span of day and night."
   ]
  },
  {
   "cell_type": "code",
   "execution_count": 37,
   "metadata": {},
   "outputs": [
    {
     "data": {
      "text/plain": [
       "array([[ 0.8, 30. , 25. ],\n",
       "       [ 0.9,  5. , 50. ],\n",
       "       [20. ,  5. , 10. ],\n",
       "       [10. , 20. , 50. ]])"
      ]
     },
     "execution_count": 37,
     "metadata": {},
     "output_type": "execute_result"
    }
   ],
   "source": [
    "food_nutrients_in_grams = np.array([\n",
    "    [0.8, 30, 25],\n",
    "    [0.9, 5, 50],\n",
    "    [20, 5, 10],\n",
    "    [10, 20, 50]\n",
    "])\n",
    "food_nutrients_in_grams"
   ]
  },
  {
   "cell_type": "code",
   "execution_count": 38,
   "metadata": {},
   "outputs": [
    {
     "data": {
      "text/plain": [
       "array([9, 4, 4])"
      ]
     },
     "execution_count": 38,
     "metadata": {},
     "output_type": "execute_result"
    }
   ],
   "source": [
    "calories_per_grams = np.array([9, 4, 4])\n",
    "calories_per_grams"
   ]
  },
  {
   "cell_type": "markdown",
   "metadata": {},
   "source": [
    "Todo 1\n",
    "It was found that a typical person from Karnataka consumes the following on a daily basis \n",
    "1. two servings of Idli for breakfast\n",
    "2. one serving of rice in the lunch \n",
    "3. one serving of bisibelebath for supper(night)\n",
    "4. two servings of snacks during the day"
   ]
  },
  {
   "cell_type": "code",
   "execution_count": 39,
   "metadata": {},
   "outputs": [],
   "source": [
    "# TODO: 1\n",
    "# Fill the array to hold the servings per day\n",
    "# Caution: Order of food items and their correponding servings should be lined up correctly \n",
    "servings_per_day = np.array([[ 2, 1, 2, 1]])"
   ]
  },
  {
   "cell_type": "code",
   "execution_count": 40,
   "metadata": {},
   "outputs": [
    {
     "name": "stdout",
     "output_type": "stream",
     "text": [
      "227.2\n"
     ]
    }
   ],
   "source": [
    "# TODO: 2\n",
    "# using the food_nutrients_in_grams matrix and cal_per_grams vector, \n",
    "# calculate the calories in each food items\n",
    "# For e.g. Idli has Fat-Protein-Carbohydrate = [0.8, 30, 25]\n",
    "# cal_per_grams of Fat-Protein-Carbohydrate = [9, 4, 4]\n",
    "# idli_calories = idli_fat * fat_calories + idli_protein * protein_calories + idli_carb * carb_calories\n",
    "# Index to select the row for \"Idli\" in food_nutrients_in_grams (adjust as needed)\n",
    "idli_row_index = 0\n",
    "\n",
    "# Calculate calories for \"Idli\" using the given formula\n",
    "idli_calories = np.dot(food_nutrients_in_grams[idli_row_index, :], calories_per_grams)\n",
    "\n",
    "print(idli_calories)"
   ]
  },
  {
   "cell_type": "code",
   "execution_count": 41,
   "metadata": {},
   "outputs": [
    {
     "name": "stdout",
     "output_type": "stream",
     "text": [
      "[228.1]\n",
      "[240.]\n",
      "[370.]\n"
     ]
    }
   ],
   "source": [
    "# TODO: 3\n",
    "\n",
    "# Similarly calculate rice calories\n",
    "rice_row_index=1\n",
    "rice_calories = np.dot(food_nutrients_in_grams[rice_row_index:2], calories_per_grams)\n",
    "print(rice_calories)\n",
    "\n",
    "# Calculate snack calories\n",
    "snack_row_index=2\n",
    "snack_calories = np.dot(food_nutrients_in_grams[snack_row_index:3], calories_per_grams)\n",
    "print(snack_calories)\n",
    "\n",
    "# Calculate bisibelebath calories\n",
    "bisibelebath_row_index=3\n",
    "bisibelebath_calories = np.dot(food_nutrients_in_grams[bisibelebath_row_index:], calories_per_grams)\n",
    "print(bisibelebath_calories)\n"
   ]
  },
  {
   "cell_type": "code",
   "execution_count": 43,
   "metadata": {},
   "outputs": [
    {
     "name": "stdout",
     "output_type": "stream",
     "text": [
      "[227.2 228.1 240.  370. ]\n"
     ]
    }
   ],
   "source": [
    "# TODO: 4\n",
    "# In the previous cells you calculated calories in individual food items\n",
    "# as individual numpy operation\n",
    "# All the 4 numpy operations can be combined into a single numpy operation between a matrix and vector\n",
    "fooditem_calories = np.matmul(food_nutrients_in_grams, calories_per_grams)\n",
    "print(fooditem_calories)"
   ]
  },
  {
   "cell_type": "code",
   "execution_count": 49,
   "metadata": {},
   "outputs": [
    {
     "name": "stdout",
     "output_type": "stream",
     "text": [
      "[[454.4 228.1 480.  370. ]]\n"
     ]
    }
   ],
   "source": [
    "# TODO: 5\n",
    "# In previous cell you calculated the calories in each food item i.e. Idli, Rice etc. as a vector\n",
    "# Now you should calculate the daily calories of idli, rice, etc.\n",
    "# For e.g. daily_idli_calories =  idli_calories * num_idli_servings_per_day\n",
    "# daily_rice_calories = rice_calories * num_rice_servings_per_day\n",
    "# But you should calculate it with a operation on fooditem_calories vector and another _____ vector\n",
    "\n",
    "# You might get a compilation error. Follow instructions in next cells to fix the error\n",
    "total_daily_calories = np.multiply(fooditem_calories, servings_per_day) \n",
    "print(total_daily_calories)"
   ]
  },
  {
   "cell_type": "code",
   "execution_count": 46,
   "metadata": {},
   "outputs": [
    {
     "name": "stdout",
     "output_type": "stream",
     "text": [
      "shape of fooditem_calories vector is (4,)\n",
      "shape of ??? vector is (1, 4)\n"
     ]
    }
   ],
   "source": [
    "# TODO: 6\n",
    "# Write your debug code here to print the shape of the two vectors you used in above cell\n",
    "print(f\"shape of fooditem_calories vector is {fooditem_calories.shape}\")\n",
    "print(f\"shape of ??? vector is {total_daily_calories.shape}\") #This shape will be odd. hence error"
   ]
  },
  {
   "cell_type": "code",
   "execution_count": 47,
   "metadata": {},
   "outputs": [
    {
     "ename": "AttributeError",
     "evalue": "module 'numpy' has no attribute 'flatten'",
     "output_type": "error",
     "traceback": [
      "\u001b[1;31m---------------------------------------------------------------------------\u001b[0m",
      "\u001b[1;31mAttributeError\u001b[0m                            Traceback (most recent call last)",
      "\u001b[1;32md:\\Masters\\Lab\\Applied Linear Algerba\\ALA_Sessional_1_Pattern_Students.ipynb Cell 16\u001b[0m line \u001b[0;36m3\n\u001b[0;32m      <a href='vscode-notebook-cell:/d%3A/Masters/Lab/Applied%20Linear%20Algerba/ALA_Sessional_1_Pattern_Students.ipynb#X20sZmlsZQ%3D%3D?line=0'>1</a>\u001b[0m \u001b[39m# TODO: 7\u001b[39;00m\n\u001b[0;32m      <a href='vscode-notebook-cell:/d%3A/Masters/Lab/Applied%20Linear%20Algerba/ALA_Sessional_1_Pattern_Students.ipynb#X20sZmlsZQ%3D%3D?line=1'>2</a>\u001b[0m \u001b[39m# You might want to flatten the second vector before using it\u001b[39;00m\n\u001b[1;32m----> <a href='vscode-notebook-cell:/d%3A/Masters/Lab/Applied%20Linear%20Algerba/ALA_Sessional_1_Pattern_Students.ipynb#X20sZmlsZQ%3D%3D?line=2'>3</a>\u001b[0m total_daily_calories_flat \u001b[39m=\u001b[39m np\u001b[39m.\u001b[39;49mflatten(total_daily_calories)\n",
      "File \u001b[1;32m~\\AppData\\Local\\Packages\\PythonSoftwareFoundation.Python.3.10_qbz5n2kfra8p0\\LocalCache\\local-packages\\Python310\\site-packages\\numpy\\__init__.py:311\u001b[0m, in \u001b[0;36m__getattr__\u001b[1;34m(attr)\u001b[0m\n\u001b[0;32m    308\u001b[0m     \u001b[39mfrom\u001b[39;00m \u001b[39m.\u001b[39;00m\u001b[39mtesting\u001b[39;00m \u001b[39mimport\u001b[39;00m Tester\n\u001b[0;32m    309\u001b[0m     \u001b[39mreturn\u001b[39;00m Tester\n\u001b[1;32m--> 311\u001b[0m \u001b[39mraise\u001b[39;00m \u001b[39mAttributeError\u001b[39;00m(\u001b[39m\"\u001b[39m\u001b[39mmodule \u001b[39m\u001b[39m{!r}\u001b[39;00m\u001b[39m has no attribute \u001b[39m\u001b[39m\"\u001b[39m\n\u001b[0;32m    312\u001b[0m                      \u001b[39m\"\u001b[39m\u001b[39m{!r}\u001b[39;00m\u001b[39m\"\u001b[39m\u001b[39m.\u001b[39mformat(\u001b[39m__name__\u001b[39m, attr))\n",
      "\u001b[1;31mAttributeError\u001b[0m: module 'numpy' has no attribute 'flatten'"
     ]
    }
   ],
   "source": [
    "# TODO: 7\n",
    "# You might want to flatten the second vector before using it\n",
    "total = np.flatten(food_nutrients_in_grams)"
   ]
  },
  {
   "cell_type": "code",
   "execution_count": null,
   "metadata": {},
   "outputs": [],
   "source": [
    "# TODO: 8\n",
    "# Now you should be able to use the flattened vector here \n",
    "# Calculate total daily calories with a operation on two vectors whose output is scalar\n",
    "# The two vectors are fooditem_calories vector and another _____ vector\n",
    "total_daily_calories = np.?(fooditem_calories, ?) "
   ]
  },
  {
   "cell_type": "code",
   "execution_count": null,
   "metadata": {},
   "outputs": [],
   "source": [
    "# TODO: 9\n",
    "# Line below is not printing the total daily calories\n",
    "# Fix this \n",
    "print(\"Total daily calories = {total_daily_calories}\")"
   ]
  }
 ],
 "metadata": {
  "kernelspec": {
   "display_name": "quickstart",
   "language": "python",
   "name": "python3"
  },
  "language_info": {
   "codemirror_mode": {
    "name": "ipython",
    "version": 3
   },
   "file_extension": ".py",
   "mimetype": "text/x-python",
   "name": "python",
   "nbconvert_exporter": "python",
   "pygments_lexer": "ipython3",
   "version": "3.10.11"
  },
  "orig_nbformat": 4
 },
 "nbformat": 4,
 "nbformat_minor": 2
}
